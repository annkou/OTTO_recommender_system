{
 "cells": [
  {
   "cell_type": "code",
   "execution_count": 8,
   "metadata": {},
   "outputs": [
    {
     "name": "stdout",
     "output_type": "stream",
     "text": [
      "Collecting pyarrow\n",
      "  Downloading https://files.pythonhosted.org/packages/54/76/776059807d8bac7833134fa0edac0aa44fd83a417c667ddc37404eff1e89/pyarrow-10.0.0-cp37-cp37m-win_amd64.whl (19.9MB)\n",
      "Requirement already satisfied: numpy>=1.16.6 in c:\\users\\fsu_eydap\\appdata\\local\\programs\\python\\python37\\lib\\site-packages (from pyarrow) (1.21.6)\n",
      "Installing collected packages: pyarrow\n",
      "Successfully installed pyarrow-10.0.0\n"
     ]
    },
    {
     "name": "stderr",
     "output_type": "stream",
     "text": [
      "You are using pip version 19.0.3, however version 22.3.1 is available.\n",
      "You should consider upgrading via the 'python -m pip install --upgrade pip' command.\n"
     ]
    },
    {
     "name": "stdout",
     "output_type": "stream",
     "text": [
      "Wall time: 12.1 s\n"
     ]
    }
   ],
   "source": [
    "%%time\n",
    "import json\n",
    "import pandas as pd\n",
    "import numpy as np\n",
    "!pip install pyarrow\n",
    "import pyarrow\n",
    "from pyarrow import json\n",
    "import pyarrow.parquet as pq "
   ]
  },
  {
   "cell_type": "code",
   "execution_count": null,
   "metadata": {},
   "outputs": [],
   "source": [
    "#to convert a json file, firstly we need to convert it to a dataframe\n",
    "#and later to a parquet file or csv \n",
    "#astype uint8 to save time and space\n"
   ]
  }
 ],
 "metadata": {
  "kernelspec": {
   "display_name": "Python 3.7.3 64-bit",
   "language": "python",
   "name": "python3"
  },
  "language_info": {
   "codemirror_mode": {
    "name": "ipython",
    "version": 3
   },
   "file_extension": ".py",
   "mimetype": "text/x-python",
   "name": "python",
   "nbconvert_exporter": "python",
   "pygments_lexer": "ipython3",
   "version": "3.7.3"
  },
  "orig_nbformat": 4,
  "vscode": {
   "interpreter": {
    "hash": "9ecc0d96076350d2e70adcf6a4dcf99de7a12563e7160d1a005b55ed951ae917"
   }
  }
 },
 "nbformat": 4,
 "nbformat_minor": 2
}
